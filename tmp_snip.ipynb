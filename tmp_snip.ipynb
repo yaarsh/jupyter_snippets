{
 "cells": [
  {
   "cell_type": "code",
   "execution_count": 1,
   "metadata": {},
   "outputs": [
    {
     "data": {
      "text/html": [
       "<div>\n",
       "<style>\n",
       "    .dataframe thead tr:only-child th {\n",
       "        text-align: right;\n",
       "    }\n",
       "\n",
       "    .dataframe thead th {\n",
       "        text-align: left;\n",
       "    }\n",
       "\n",
       "    .dataframe tbody tr th {\n",
       "        vertical-align: top;\n",
       "    }\n",
       "</style>\n",
       "<table border=\"1\" class=\"dataframe\">\n",
       "  <thead>\n",
       "    <tr style=\"text-align: right;\">\n",
       "      <th></th>\n",
       "      <th>FileName0</th>\n",
       "      <th>Cat0</th>\n",
       "      <th>FileName1</th>\n",
       "      <th>Cat1</th>\n",
       "    </tr>\n",
       "  </thead>\n",
       "  <tbody>\n",
       "    <tr>\n",
       "      <th>0</th>\n",
       "      <td>181228054557CET_961593_58883032_BottomPrimaryV...</td>\n",
       "      <td>IED</td>\n",
       "      <td>181228194213CET_962584_58941229_BottomPrimaryV...</td>\n",
       "      <td>IED</td>\n",
       "    </tr>\n",
       "    <tr>\n",
       "      <th>1</th>\n",
       "      <td>181228061751CET_961653_58886519_BottomPrimaryV...</td>\n",
       "      <td>IED</td>\n",
       "      <td>181229154139CET_963437_58993770_BottomPrimaryV...</td>\n",
       "      <td>IED</td>\n",
       "    </tr>\n",
       "    <tr>\n",
       "      <th>2</th>\n",
       "      <td>181228061751CET_961653_58886519_BottomPrimaryV...</td>\n",
       "      <td>IED</td>\n",
       "      <td>181229190607CET_963599_59002982_BottomPrimaryV...</td>\n",
       "      <td>IED</td>\n",
       "    </tr>\n",
       "    <tr>\n",
       "      <th>3</th>\n",
       "      <td>181228061756CET_961654_58886538_BottomPrimaryV...</td>\n",
       "      <td>GUN,LAG</td>\n",
       "      <td>181229121429CET_963244_58981616_BottomPrimaryV...</td>\n",
       "      <td>GUN,LAG</td>\n",
       "    </tr>\n",
       "    <tr>\n",
       "      <th>4</th>\n",
       "      <td>181228065645CET_961691_58888845_BottomPrimaryV...</td>\n",
       "      <td>IED,LED,LAG</td>\n",
       "      <td>181229070850CET_962854_58958588_BottomPrimaryV...</td>\n",
       "      <td>IED,LED</td>\n",
       "    </tr>\n",
       "  </tbody>\n",
       "</table>\n",
       "</div>"
      ],
      "text/plain": [
       "                                           FileName0         Cat0  \\\n",
       "0  181228054557CET_961593_58883032_BottomPrimaryV...          IED   \n",
       "1  181228061751CET_961653_58886519_BottomPrimaryV...          IED   \n",
       "2  181228061751CET_961653_58886519_BottomPrimaryV...          IED   \n",
       "3  181228061756CET_961654_58886538_BottomPrimaryV...      GUN,LAG   \n",
       "4  181228065645CET_961691_58888845_BottomPrimaryV...  IED,LED,LAG   \n",
       "\n",
       "                                           FileName1     Cat1  \n",
       "0  181228194213CET_962584_58941229_BottomPrimaryV...      IED  \n",
       "1  181229154139CET_963437_58993770_BottomPrimaryV...      IED  \n",
       "2  181229190607CET_963599_59002982_BottomPrimaryV...      IED  \n",
       "3  181229121429CET_963244_58981616_BottomPrimaryV...  GUN,LAG  \n",
       "4  181229070850CET_962854_58958588_BottomPrimaryV...  IED,LED  "
      ]
     },
     "execution_count": 1,
     "metadata": {},
     "output_type": "execute_result"
    }
   ],
   "source": [
    "import pandas as pd\n",
    "\n",
    "df = pd.read_csv(r'C:\\Users\\innereye\\Downloads\\Schiphol_Duplicates.csv')\n",
    "df.head()"
   ]
  },
  {
   "cell_type": "code",
   "execution_count": 2,
   "metadata": {},
   "outputs": [
    {
     "data": {
      "text/html": [
       "<div>\n",
       "<style>\n",
       "    .dataframe thead tr:only-child th {\n",
       "        text-align: right;\n",
       "    }\n",
       "\n",
       "    .dataframe thead th {\n",
       "        text-align: left;\n",
       "    }\n",
       "\n",
       "    .dataframe tbody tr th {\n",
       "        vertical-align: top;\n",
       "    }\n",
       "</style>\n",
       "<table border=\"1\" class=\"dataframe\">\n",
       "  <thead>\n",
       "    <tr style=\"text-align: right;\">\n",
       "      <th></th>\n",
       "      <th>FileName0</th>\n",
       "      <th>Cat0</th>\n",
       "      <th>FileName1</th>\n",
       "      <th>Cat1</th>\n",
       "      <th>len_cat0</th>\n",
       "      <th>len_cat1</th>\n",
       "    </tr>\n",
       "  </thead>\n",
       "  <tbody>\n",
       "    <tr>\n",
       "      <th>0</th>\n",
       "      <td>181228054557CET_961593_58883032_BottomPrimaryV...</td>\n",
       "      <td>IED</td>\n",
       "      <td>181228194213CET_962584_58941229_BottomPrimaryV...</td>\n",
       "      <td>IED</td>\n",
       "      <td>1</td>\n",
       "      <td>1</td>\n",
       "    </tr>\n",
       "    <tr>\n",
       "      <th>1</th>\n",
       "      <td>181228061751CET_961653_58886519_BottomPrimaryV...</td>\n",
       "      <td>IED</td>\n",
       "      <td>181229154139CET_963437_58993770_BottomPrimaryV...</td>\n",
       "      <td>IED</td>\n",
       "      <td>1</td>\n",
       "      <td>1</td>\n",
       "    </tr>\n",
       "    <tr>\n",
       "      <th>2</th>\n",
       "      <td>181228061751CET_961653_58886519_BottomPrimaryV...</td>\n",
       "      <td>IED</td>\n",
       "      <td>181229190607CET_963599_59002982_BottomPrimaryV...</td>\n",
       "      <td>IED</td>\n",
       "      <td>1</td>\n",
       "      <td>1</td>\n",
       "    </tr>\n",
       "    <tr>\n",
       "      <th>3</th>\n",
       "      <td>181228061756CET_961654_58886538_BottomPrimaryV...</td>\n",
       "      <td>GUN,LAG</td>\n",
       "      <td>181229121429CET_963244_58981616_BottomPrimaryV...</td>\n",
       "      <td>GUN,LAG</td>\n",
       "      <td>2</td>\n",
       "      <td>2</td>\n",
       "    </tr>\n",
       "    <tr>\n",
       "      <th>4</th>\n",
       "      <td>181228065645CET_961691_58888845_BottomPrimaryV...</td>\n",
       "      <td>IED,LED,LAG</td>\n",
       "      <td>181229070850CET_962854_58958588_BottomPrimaryV...</td>\n",
       "      <td>IED,LED</td>\n",
       "      <td>3</td>\n",
       "      <td>2</td>\n",
       "    </tr>\n",
       "  </tbody>\n",
       "</table>\n",
       "</div>"
      ],
      "text/plain": [
       "                                           FileName0         Cat0  \\\n",
       "0  181228054557CET_961593_58883032_BottomPrimaryV...          IED   \n",
       "1  181228061751CET_961653_58886519_BottomPrimaryV...          IED   \n",
       "2  181228061751CET_961653_58886519_BottomPrimaryV...          IED   \n",
       "3  181228061756CET_961654_58886538_BottomPrimaryV...      GUN,LAG   \n",
       "4  181228065645CET_961691_58888845_BottomPrimaryV...  IED,LED,LAG   \n",
       "\n",
       "                                           FileName1     Cat1  len_cat0  \\\n",
       "0  181228194213CET_962584_58941229_BottomPrimaryV...      IED         1   \n",
       "1  181229154139CET_963437_58993770_BottomPrimaryV...      IED         1   \n",
       "2  181229190607CET_963599_59002982_BottomPrimaryV...      IED         1   \n",
       "3  181229121429CET_963244_58981616_BottomPrimaryV...  GUN,LAG         2   \n",
       "4  181229070850CET_962854_58958588_BottomPrimaryV...  IED,LED         3   \n",
       "\n",
       "   len_cat1  \n",
       "0         1  \n",
       "1         1  \n",
       "2         1  \n",
       "3         2  \n",
       "4         2  "
      ]
     },
     "execution_count": 2,
     "metadata": {},
     "output_type": "execute_result"
    }
   ],
   "source": [
    "df.loc[:, 'len_cat0'] = df.Cat0.apply(lambda x: len(x.split(',')))\n",
    "df.loc[:, 'len_cat1'] = df.Cat1.apply(lambda x: len(x.split(',')))\n",
    "df.head()"
   ]
  },
  {
   "cell_type": "code",
   "execution_count": 3,
   "metadata": {
    "collapsed": true
   },
   "outputs": [],
   "source": [
    "def select(row):\n",
    "    if row.len_cat0 >= row.len_cat1:\n",
    "        ans = row[['FileName0', 'Cat0']]\n",
    "    else:\n",
    "        ans = row[['FileName1', 'Cat1']]\n",
    "    ans.index = ['FileName', 'Cat']\n",
    "    return ans\n",
    "\n",
    "df_new = df.apply(select, axis=1)"
   ]
  },
  {
   "cell_type": "code",
   "execution_count": 4,
   "metadata": {},
   "outputs": [
    {
     "data": {
      "text/plain": [
       "'181228065645CET_961691_58888845_BottomPrimaryViewCleanRGB.png'"
      ]
     },
     "execution_count": 4,
     "metadata": {},
     "output_type": "execute_result"
    }
   ],
   "source": [
    "df_new.loc[4, 'FileName']"
   ]
  }
 ],
 "metadata": {
  "kernelspec": {
   "display_name": "Python 2",
   "language": "python",
   "name": "python2"
  },
  "language_info": {
   "codemirror_mode": {
    "name": "ipython",
    "version": 2
   },
   "file_extension": ".py",
   "mimetype": "text/x-python",
   "name": "python",
   "nbconvert_exporter": "python",
   "pygments_lexer": "ipython2",
   "version": "2.7.13"
  }
 },
 "nbformat": 4,
 "nbformat_minor": 2
}
